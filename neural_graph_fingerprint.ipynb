{
 "cells": [
  {
   "cell_type": "code",
   "execution_count": 1,
   "metadata": {},
   "outputs": [
    {
     "name": "stdout",
     "output_type": "stream",
     "text": [
      "device: cuda:3\n"
     ]
    }
   ],
   "source": [
    "import torch\n",
    "import torch.nn as nn\n",
    "import torch.nn.functional as F \n",
    "import torch_geometric.transforms as T\n",
    "from torch import lgamma\n",
    "from torch_geometric.data import DataLoader\n",
    "from torch_scatter import scatter_mean\n",
    "import argparse\n",
    "import numpy as np\n",
    "import random\n",
    "import ogb\n",
    "from ogb.graphproppred import PygGraphPropPredDataset\n",
    "\n",
    "parser = argparse.ArgumentParser(description='PyTorch implementation of neural graph fingerprint generation')\n",
    "args = parser.parse_args(\"\")\n",
    "args.device = 3\n",
    "args.device = torch.device('cuda:'+ str(args.device) if torch.cuda.is_available() else 'cpu')\n",
    "print(\"device:\", args.device)\n",
    "torch.manual_seed(0)\n",
    "np.random.seed(0)\n",
    "if torch.cuda.is_available():\n",
    "    torch.cuda.manual_seed_all(0)\n",
    "\n",
    "def set_seed(seed):\n",
    "    torch.manual_seed(seed)\n",
    "    np.random.seed(seed)\n",
    "    random.seed(seed)\n",
    "    if torch.cuda.is_available():\n",
    "        torch.cuda.manual_seed_all(seed)\n",
    "\n",
    "seed = 0\n",
    "set_seed(seed)"
   ]
  },
  {
   "cell_type": "code",
   "execution_count": 8,
   "metadata": {},
   "outputs": [],
   "source": [
    "from torch_geometric.nn import MessagePassing\n",
    "from torch_geometric.utils import add_self_loops\n",
    "\n",
    "class NeuralGraphFingerprint(MessagePassing):\n",
    "    def __init__(self):\n",
    "        super(NeuralGraphFingerprint, self).__init__(aggr='add')  # \"Add\" aggregation.\n",
    "\n",
    "    def forward(self, x, edge_index):\n",
    "        # x has shape [N, in_channels]\n",
    "        # edge_index has shape [2, E]\n",
    "    \n",
    "        # Add self-loops to the adjacency matrix.\n",
    "        # This is to ensure that current node's features are part of aggregation\n",
    "        # (i.e. include node a in its neighborhood)\n",
    "        edge_index, _ = add_self_loops(edge_index, num_nodes=x.size(0))\n",
    "\n",
    "        # Start propagating messages.\n",
    "        return self.propagate(edge_index, x=x)\n",
    "\n",
    "    def message(self, x_j):\n",
    "        # x_j has shape [E, out_channels]\n",
    "        return x_j"
   ]
  },
  {
   "cell_type": "code",
   "execution_count": 43,
   "metadata": {},
   "outputs": [],
   "source": [
    "class AttrProxy(object):\n",
    "    \"\"\"Translates index lookups into attribute lookups.\"\"\"\n",
    "    def __init__(self, module, prefix):\n",
    "        self.module = module\n",
    "        self.prefix = prefix\n",
    "\n",
    "    def __getitem__(self, i):\n",
    "        return getattr(self.module, self.prefix + str(i))"
   ]
  },
  {
   "cell_type": "code",
   "execution_count": 46,
   "metadata": {},
   "outputs": [],
   "source": [
    "from torch_geometric.nn import GCNConv\n",
    "from ogb.graphproppred.mol_encoder import AtomEncoder\n",
    "\n",
    "class Net(torch.nn.Module):\n",
    "    # Fixed fingerprints must be extremely large to encode all possible substructures without overlap\n",
    "    def __init__(self, mode='ngf', num_features=2048, max_layers=5):\n",
    "        super(Net, self).__init__()\n",
    "        \n",
    "        self.mode = mode\n",
    "        self.max_layers = max_layers\n",
    "        \n",
    "        self.atom_encoder = AtomEncoder(emb_dim=num_features)\n",
    "        \n",
    "        for L in range(max_layers):\n",
    "            if mode == 'ngf':\n",
    "                self.add_module('conv_' + str(L), NeuralGraphFingerprint())\n",
    "            elif mode == 'gcn':\n",
    "                self.add_module('conv_' + str(L), GCNConv(num_features, num_features))\n",
    "            else:\n",
    "                raise NotImplementedError\n",
    "            \n",
    "            # TODO: fixed large random weights\n",
    "            self.add_module('hlin_' + str(L), torch.nn.Linear(num_features, num_features))\n",
    "            self.add_module('olin_' + str(L), torch.nn.Linear(num_features, num_features))\n",
    "        \n",
    "        self.convs = AttrProxy(self, 'conv_')\n",
    "        self.hidden_weights = AttrProxy(self, 'hlin_')\n",
    "        self.output_weights = AttrProxy(self, 'olin_')\n",
    "            \n",
    "    def forward(self, data):\n",
    "        x, edge_index = data.x, data.edge_index\n",
    "        \n",
    "        # TODO: fingerprints are identical regardless of the ordering of atoms in each neighborhood\n",
    "        # this invariance is achieved by sorting the neighboring atoms according to their features, and bond features\n",
    "        \n",
    "        # does not make use of edge attributes\n",
    "        h = self.atom_encoder(x)\n",
    "        f = torch.zeros(h.size()).to(args.device)\n",
    "        reprs = []\n",
    "        # should change to only interate up to L_max = minimum eccentricity (i.e. radius of molecule)\n",
    "        for L in range(self.max_layers):\n",
    "            h = self.convs[L](h, edge_index)\n",
    "            h = self.hidden_weights[L](h).sigmoid()\n",
    "            h = self.output_weights[L](h).softmax(dim=1)\n",
    "            f += h\n",
    "            reprs.append(f)\n",
    "        \n",
    "        return f, reprs"
   ]
  },
  {
   "cell_type": "code",
   "execution_count": 52,
   "metadata": {},
   "outputs": [
    {
     "name": "stdout",
     "output_type": "stream",
     "text": [
      "Loading data...\n",
      "dataset: ogbg-moltox21 \n"
     ]
    },
    {
     "data": {
      "image/png": "[encoded data removed]",
      "text/plain": [
       "<Figure size 432x288 with 1 Axes>"
      ]
     },
     "metadata": {
      "needs_background": "light"
     },
     "output_type": "display_data"
    }
   ],
   "source": [
    "from sklearn.manifold import TSNE\n",
    "import matplotlib.pyplot as plt\n",
    "\n",
    "args.dataset = 'ogbg-moltox21'\n",
    "args.n_classes = 1\n",
    "args.batch_size = 128\n",
    "\n",
    "print(\"Loading data...\")\n",
    "print(\"dataset: {} \".format(args.dataset))\n",
    "dataset = PygGraphPropPredDataset(name=args.dataset).shuffle()\n",
    "\n",
    "loader = DataLoader(dataset, batch_size=args.batch_size, shuffle=False, drop_last=True)\n",
    "model = Net().to(args.device)\n",
    "\n",
    "for idx, data in enumerate(loader):\n",
    "    \n",
    "    data = data.to(args.device)\n",
    "    f, reprs = model(data)\n",
    "    \n",
    "    tsne = TSNE()\n",
    "    proj = tsne.fit_transform(torch.cat(reprs).detach().cpu().numpy())\n",
    "    colors = ['b', 'g', 'r', 'c', 'm']\n",
    "    offset = 0\n",
    "    for repr_idx, r in enumerate(reprs):\n",
    "        plt.scatter(proj[offset:r.size(0),0], proj[offset:r.size(0),1], color=colors[repr_idx])      \n",
    "        offset += r.size(0)\n",
    "    \n",
    "    plt.show()\n",
    "    break"
   ]
  },
  {
   "cell_type": "code",
   "execution_count": null,
   "metadata": {},
   "outputs": [],
   "source": []
  }
 ],
 "metadata": {
  "kernelspec": {
   "display_name": "Python 3",
   "language": "python",
   "name": "python3"
  },
  "language_info": {
   "codemirror_mode": {
    "name": "ipython",
    "version": 3
   },
   "file_extension": ".py",
   "mimetype": "text/x-python",
   "name": "python",
   "nbconvert_exporter": "python",
   "pygments_lexer": "ipython3",
   "version": "3.6.10"
  }
 },
 "nbformat": 4,
 "nbformat_minor": 2
}
